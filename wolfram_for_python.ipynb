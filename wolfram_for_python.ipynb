{
 "cells": [
  {
   "cell_type": "code",
   "execution_count": 5,
   "id": "5bb7d349-f682-4257-af0b-e898d3dedb69",
   "metadata": {},
   "outputs": [],
   "source": [
    "from wolframclient.evaluation import WolframLanguageSession\n",
    "from wolframclient.language import wl, wlexpr"
   ]
  },
  {
   "cell_type": "code",
   "execution_count": 11,
   "id": "5987ccc3-93f7-4c50-9f48-7da5cd34a43a",
   "metadata": {},
   "outputs": [],
   "source": [
    "# Replace 'your_kernel_path' with the actual path to the Wolfram Kernel executable.\n",
    "# exp: session = WolframLanguageSession(r'your_kernel_path')\n",
    "# you should have download mathematica or wolfram engine\n",
    "# how to find Wolfram Kernel executable: \"mathematica/MathKernel.exe\" or \"Wolfram Engine\\*\\MathKernel.exe\"\n",
    "# like this↓\n",
    "session = WolframLanguageSession(r'D:\\mathematica\\MathKernel.exe')"
   ]
  },
  {
   "cell_type": "markdown",
   "id": "0aeac3fc-723d-46a4-ad25-f66e2703813f",
   "metadata": {},
   "source": [
    "## Evaluate any Wolfram Language code from Python"
   ]
  },
  {
   "cell_type": "code",
   "execution_count": 14,
   "id": "aa4bd5c1-4cf6-44a2-a8b8-cc72707d0e0d",
   "metadata": {},
   "outputs": [
    {
     "data": {
      "text/plain": [
       "PackedArray([1, 2, 3, 4, 5], dtype=int8)"
      ]
     },
     "execution_count": 14,
     "metadata": {},
     "output_type": "execute_result"
    }
   ],
   "source": [
    "session.evaluate(wlexpr('Range[5]'))"
   ]
  },
  {
   "cell_type": "markdown",
   "id": "3637b6d4-82e1-405c-8a54-9054499fed6b",
   "metadata": {},
   "source": [
    "## Immediately call all 6000+ built-in Wolfram Language functions in Python"
   ]
  },
  {
   "cell_type": "code",
   "execution_count": 8,
   "id": "2e9a9e16-98b5-4569-b2ac-e3989a64f05c",
   "metadata": {},
   "outputs": [
    {
     "data": {
      "text/plain": [
       "(-3, 9)"
      ]
     },
     "execution_count": 8,
     "metadata": {},
     "output_type": "execute_result"
    }
   ],
   "source": [
    "session.evaluate(wl.MinMax([1, -3, 0, 9, 5]))"
   ]
  },
  {
   "cell_type": "markdown",
   "id": "e212bc43-fd1e-40d0-8db7-42979bf92f07",
   "metadata": {},
   "source": [
    "## Build up Wolfram Language code directly in Python"
   ]
  },
  {
   "cell_type": "code",
   "execution_count": 13,
   "id": "8ef6f308-0b53-4396-a478-5a19b7d46039",
   "metadata": {},
   "outputs": [
    {
     "data": {
      "text/plain": [
       "(1, 4, 9, 16, 25)"
      ]
     },
     "execution_count": 13,
     "metadata": {},
     "output_type": "execute_result"
    }
   ],
   "source": [
    "func_squared = wlexpr('#^2 &')\n",
    "session.evaluate(wl.Map(func_squared, wl.Range(5)))"
   ]
  },
  {
   "cell_type": "markdown",
   "id": "785018d2-11ad-4bb5-ba9f-8be4b83b9e3a",
   "metadata": {},
   "source": [
    "## Direct support for PIL, Pandas and NumPy libraries"
   ]
  },
  {
   "cell_type": "code",
   "execution_count": 16,
   "id": "2930059f-7482-4c7a-b3a7-2ed074d7b8a6",
   "metadata": {},
   "outputs": [
    {
     "data": {
      "text/html": [
       "<div>\n",
       "<style scoped>\n",
       "    .dataframe tbody tr th:only-of-type {\n",
       "        vertical-align: middle;\n",
       "    }\n",
       "\n",
       "    .dataframe tbody tr th {\n",
       "        vertical-align: top;\n",
       "    }\n",
       "\n",
       "    .dataframe thead th {\n",
       "        text-align: right;\n",
       "    }\n",
       "</style>\n",
       "<table border=\"1\" class=\"dataframe\">\n",
       "  <thead>\n",
       "    <tr style=\"text-align: right;\">\n",
       "      <th></th>\n",
       "      <th>A</th>\n",
       "      <th>B</th>\n",
       "    </tr>\n",
       "  </thead>\n",
       "  <tbody>\n",
       "    <tr>\n",
       "      <th>id1</th>\n",
       "      <td>1</td>\n",
       "      <td>11</td>\n",
       "    </tr>\n",
       "    <tr>\n",
       "      <th>id2</th>\n",
       "      <td>2</td>\n",
       "      <td>12</td>\n",
       "    </tr>\n",
       "  </tbody>\n",
       "</table>\n",
       "</div>"
      ],
      "text/plain": [
       "     A   B\n",
       "id1  1  11\n",
       "id2  2  12"
      ]
     },
     "execution_count": 16,
     "metadata": {},
     "output_type": "execute_result"
    }
   ],
   "source": [
    "# Create a Pandas DataFrame\n",
    "import pandas\n",
    "df = pandas.DataFrame({'A': [1, 2], 'B': [11, 12]}, index=['id1', 'id2'])\n",
    "df"
   ]
  },
  {
   "cell_type": "code",
   "execution_count": 17,
   "id": "0fb53e90-6987-4b6a-9a39-f005eec90c83",
   "metadata": {},
   "outputs": [
    {
     "data": {
      "text/plain": [
       "{'A': 3, 'B': 23}"
      ]
     },
     "execution_count": 17,
     "metadata": {},
     "output_type": "execute_result"
    }
   ],
   "source": [
    "# Apply Wolfram Language function directly to the DataFrame\n",
    "session.evaluate(wl.Total(df))"
   ]
  },
  {
   "cell_type": "markdown",
   "id": "8326340f-8240-4a07-aa25-df0cec37a941",
   "metadata": {},
   "source": [
    "## Define native Python functions"
   ]
  },
  {
   "cell_type": "code",
   "execution_count": 18,
   "id": "a2ff6d4d-b148-406d-9a7f-e7b74046f332",
   "metadata": {},
   "outputs": [
    {
     "data": {
      "text/plain": [
       "'cba'"
      ]
     },
     "execution_count": 18,
     "metadata": {},
     "output_type": "execute_result"
    }
   ],
   "source": [
    "str_reverse = session.function(wl.StringReverse)\n",
    "str_reverse('abc')"
   ]
  },
  {
   "cell_type": "markdown",
   "id": "a7076f69-eeab-48ab-b529-9da6acbb365f",
   "metadata": {},
   "source": [
    "## Represent Wolfram Language expressions as Python objects"
   ]
  },
  {
   "cell_type": "code",
   "execution_count": 20,
   "id": "281db8ef-ab8d-435c-86e2-2ffdb040f7db",
   "metadata": {},
   "outputs": [
    {
     "data": {
      "text/plain": [
       "Quantity[12, 'Hours']"
      ]
     },
     "execution_count": 20,
     "metadata": {},
     "output_type": "execute_result"
    }
   ],
   "source": [
    "# Use object representation\n",
    "wl.Quantity(12, \"Hours\")"
   ]
  },
  {
   "cell_type": "code",
   "execution_count": 21,
   "id": "2db84c2c-9b9e-4bf8-a219-7d9d3a9600df",
   "metadata": {},
   "outputs": [
    {
     "data": {
      "text/plain": [
       "(f[x_] := x^2)"
      ]
     },
     "execution_count": 21,
     "metadata": {},
     "output_type": "execute_result"
    }
   ],
   "source": [
    "# Use string representation\n",
    "wlexpr('f[x_] := x^2')"
   ]
  },
  {
   "cell_type": "markdown",
   "id": "71315076-e5e7-45f4-b34b-caf976b781d8",
   "metadata": {},
   "source": [
    "## Access the power of Wolfram algorithms"
   ]
  },
  {
   "cell_type": "code",
   "execution_count": 22,
   "id": "3521440a-e12b-49c0-ab1a-f9d0783a9e64",
   "metadata": {},
   "outputs": [
    {
     "data": {
      "text/plain": [
       "0"
      ]
     },
     "execution_count": 22,
     "metadata": {},
     "output_type": "execute_result"
    }
   ],
   "source": [
    "# Get immediate access to the world's largest integrated algorithmbase\n",
    "limit = wlexpr('Limit[x Log[x^2], x -> 0]')\n",
    "session.evaluate(limit)"
   ]
  },
  {
   "cell_type": "markdown",
   "id": "ee46ce60-bfb9-4163-a1da-e9c2e6c5f1fb",
   "metadata": {},
   "source": [
    "## Access the Wolfram Knowledgebase"
   ]
  },
  {
   "cell_type": "code",
   "execution_count": 23,
   "id": "5cc89c65-3a04-4fdf-bdc5-589aedfb85b3",
   "metadata": {},
   "outputs": [
    {
     "data": {
      "text/plain": [
       "(Entity['Ocean', 'NorthSea'],)"
      ]
     },
     "execution_count": 23,
     "metadata": {},
     "output_type": "execute_result"
    }
   ],
   "source": [
    "# Get the closest ocean\n",
    "ocean = wlexpr('GeoNearest[Entity[\"Ocean\"], Here]')\n",
    "session.evaluate(ocean)"
   ]
  },
  {
   "cell_type": "markdown",
   "id": "b471c0f1-9b2d-403b-b806-443b9fd3ca49",
   "metadata": {},
   "source": [
    "## Use Wolfram's natural language understanding in Python"
   ]
  },
  {
   "cell_type": "code",
   "execution_count": 24,
   "id": "6bbb858a-9a45-4014-87f9-935a90fb6119",
   "metadata": {},
   "outputs": [
    {
     "data": {
      "text/plain": [
       "Quantity[145, IndependentUnit['moons']]"
      ]
     },
     "execution_count": 24,
     "metadata": {},
     "output_type": "execute_result"
    }
   ],
   "source": [
    "# Query Wolfram|Alpha directly in Python\n",
    "session.evaluate(wl.WolframAlpha(\"number of moons of Saturn\", \"Result\"))"
   ]
  },
  {
   "cell_type": "code",
   "execution_count": 25,
   "id": "ee170866-8862-4d43-9fed-d8ec27eeb1a7",
   "metadata": {},
   "outputs": [],
   "source": [
    "session.terminate()"
   ]
  }
 ],
 "metadata": {
  "kernelspec": {
   "display_name": "Python 3 (ipykernel)",
   "language": "python",
   "name": "python3"
  },
  "language_info": {
   "codemirror_mode": {
    "name": "ipython",
    "version": 3
   },
   "file_extension": ".py",
   "mimetype": "text/x-python",
   "name": "python",
   "nbconvert_exporter": "python",
   "pygments_lexer": "ipython3",
   "version": "3.8.19"
  }
 },
 "nbformat": 4,
 "nbformat_minor": 5
}
